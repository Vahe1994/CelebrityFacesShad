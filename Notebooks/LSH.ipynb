{
 "cells": [
  {
   "cell_type": "code",
   "execution_count": 7,
   "metadata": {
    "collapsed": true
   },
   "outputs": [],
   "source": [
    "import numpy as np"
   ]
  },
  {
   "cell_type": "code",
   "execution_count": 8,
   "metadata": {
    "collapsed": false
   },
   "outputs": [],
   "source": [
    "class Storage():\n",
    "    def __init__(self):\n",
    "        self.storage = dict()\n",
    "\n",
    "    def append_val(self, key, val):\n",
    "        try:\n",
    "            self.storage[key].append(val)\n",
    "        except:\n",
    "            self.storage[key] = [val]\n",
    "\n",
    "    def get_values(self, key):\n",
    "        try:\n",
    "            return self.storage[key]\n",
    "        except:\n",
    "            return []\n",
    "        \n",
    "\n",
    "class LSH():\n",
    "    def __init__(self, bits_number, embedding_dimention, hashtables_number=1):\n",
    "        self.bits_number = bits_number\n",
    "        self.embedding_dimention = embedding_dimention\n",
    "        self.hashtables_number = hashtables_number\n",
    "        self.hash_tables = [Storage() for i in range(self.hashtables_number)]\n",
    "        self.planes = [np.random.randn(self.bits_number, self.embedding_dimention)\n",
    "                       for _ in range(self.hashtables_number)]\n",
    "    \n",
    "    def _hash(self, planes, point):\n",
    "        result = []\n",
    "        for val in np.dot(planes, np.array(point)):\n",
    "            if val > 0:\n",
    "                result.append('1')\n",
    "            else:\n",
    "                result.append('0')\n",
    "        return \"\".join(result)\n",
    "\n",
    "    def add_to_hash_table(self, point):\n",
    "        for i in range(len(self.hash_tables)):\n",
    "            self.hash_tables[i].append_val(self._hash(self.planes[i], point), tuple(point))\n",
    "\n",
    "    def find_n_similar(self, point, dist_func, n=1):\n",
    "        candidates = []\n",
    "        for i in range(len(self.hash_tables)):\n",
    "            point_hash = self._hash(self.planes[i], point)\n",
    "            candidates += self.hash_tables[i].get_values(point_hash)\n",
    "        candidates = [(candidate, dist_func(point, np.array(list(candidate)).astype(int))) for candidate in candidates]\n",
    "        candidates = sorted(candidates, key=lambda x: x[1])\n",
    "        return [x[0] for x in candidates][:n]\n",
    "\n",
    "def l2(x, y):\n",
    "    return np.sum((x - y) ** 2)"
   ]
  },
  {
   "cell_type": "code",
   "execution_count": 9,
   "metadata": {
    "collapsed": false
   },
   "outputs": [],
   "source": [
    "a = LSH(bits_number=20, embedding_dimention=30, hashtables_number=2)"
   ]
  },
  {
   "cell_type": "code",
   "execution_count": 10,
   "metadata": {
    "collapsed": false
   },
   "outputs": [],
   "source": [
    "for _ in range(50000):\n",
    "    a.add_to_hash_table([np.random.random() for _ in range(30)])"
   ]
  },
  {
   "cell_type": "code",
   "execution_count": 11,
   "metadata": {
    "collapsed": false
   },
   "outputs": [],
   "source": [
    "b = a.find_n_similar([np.random.random() for _ in range(30)], dist_func=l2, n=3)"
   ]
  }
 ],
 "metadata": {
  "kernelspec": {
   "display_name": "Python 3",
   "language": "python",
   "name": "python3"
  },
  "language_info": {
   "codemirror_mode": {
    "name": "ipython",
    "version": 3
   },
   "file_extension": ".py",
   "mimetype": "text/x-python",
   "name": "python",
   "nbconvert_exporter": "python",
   "pygments_lexer": "ipython3",
   "version": "3.6.0"
  }
 },
 "nbformat": 4,
 "nbformat_minor": 2
}
